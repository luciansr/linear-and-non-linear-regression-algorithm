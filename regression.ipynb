{
 "cells": [
  {
   "cell_type": "markdown",
   "metadata": {
    "colab_type": "text",
    "id": "W4I-NGfBLdmL"
   },
   "source": [
    "## Inteligência Computacional II - Trabalho 2\n",
    "\n",
    "Prof. Carlos Eduardo Pedreira  \n",
    "PESC/COPPE/UFRJ  \n",
    "Trabalho Prático I  \n",
    "\n",
    "\n",
    "O Trabalho Prático II visa implementar os exercícios computacionais descritos no Homework #2 disponibilizado em:  \n",
    "https://work.caltech.edu/homework/hw2.pdf"
   ]
  },
  {
   "cell_type": "markdown",
   "metadata": {},
   "source": [
    "## Introdução\n",
    "\n",
    "### Regressão linear [ref.](https://www.dicionariofinanceiro.com/regressao-linear/)\n",
    "\n",
    "A regressão linear é uma metodologia desenvolvida a partir da estatística e da econometria, para analisar a relação entre variáveis formadas em um dado e seus resultados.\n",
    "\n",
    "A relação parte de uma variável de interesse (dependente) com outras que a possam influenciar, por exemplo, analisar a venda de um produto relacionada ao crescimento populacional de um país.\n",
    "\n",
    "Com os resultados obtidos a regressão linear visualiza as maiores tendências que as variáveis analisadas apresentam. A regressão consiste em modelar na estatística, os valores que se quer observar.\n",
    "\n",
    "Esta regressão é linear quando os acontecimentos observados na função apresentam um formato em linha reta, como na imagem a seguir:\n",
    "\n",
    "![Regressão Linear](normdist-regression.jpg)\n",
    "\n",
    "A análise de regressão é mais útil quando apresentada em um diagrama de dispersão, muito utilizados em economia, administração de empresas e indústrias, ou também, os dados de um país.\n",
    "\n",
    "Os acontecimentos quando não são combinados em forma linear é conhecida como regressão não-linear, e em seus gráficos, a tendência se apresenta em outros formatos.\n",
    "\n",
    "Regressão linear simples\n",
    "A regressão linear é simples quando são observadas apenas duas variáveis, normalmente X e Y, sendo que uma é dependente (Y) e será a função de outra que se comporta independente (X).\n",
    "\n",
    "A regressão linear simples é analisada através da fórmula $y = ax + b$, onde $b$ é o coeficiente linear e $a$ é o coeficiente angular.\n",
    "\n",
    "Nos casos em que as variáveis são mais do que duas passa a se chamar regressão linear múltipla e a demonstração visual a partir de um gráfico se torna mais complexa.\n",
    "\n",
    "### Regressão linear para classificação\n",
    "\n",
    "A diferença quando se usa uma regressão linear para classificação é que assim como no algoritmo [PLA](https://github.com/luciansr/simple-perceptron-pla-algorithm/blob/master/src/simple-perceptron.ipynb) o objetivo é classificar pontos que tem seus valores como $+1$ e $-1$. Para isso teremos que mapear os dados que inicialmente estão no $R_2$ e gerar os valores de $y_n$ com valor $+1$ caso estejam acima da função target, e $-1$ caso estejam abaixo da função target."
   ]
  },
  {
   "cell_type": "markdown",
   "metadata": {
    "colab_type": "text",
    "id": "kOhGo1U6YHpR"
   },
   "source": [
    "## 1. Criando uma função target aleatória"
   ]
  },
  {
   "cell_type": "markdown",
   "metadata": {},
   "source": [
    "Para começar o experimento, uma função target aleatória será gerada. Essa função será usada como base para geração de nossa base de treinamento e testes. Esta função será gerada como um vetor com ```1 linha``` e ```2 colunas``` já que estamos trabalhando no $R_2$ e o objetivo é gerar uma target function no formato $y = ax + b$ onde o vetor representará $[a, b]$. \n",
    "\n",
    "Para gerar um função target aleatória será utilizado o método ```np.random.rand(<dimensions>)``` onde pode-se definir quais as dimensoes da matriz gerada. A função rand da biblioteca ```numpy``` gera números aleatórios entre $[0, 1)$. Para obter-se uma função com valores entre $-1$ e $1$ multiplica-se por $2$ e subtrai-se $1$ para que $[0,1) \\to [-1,1)$."
   ]
  },
  {
   "cell_type": "code",
   "execution_count": 347,
   "metadata": {
    "colab": {
     "autoexec": {
      "startup": false,
      "wait_interval": 0
     },
     "base_uri": "https://localhost:8080/",
     "height": 364
    },
    "colab_type": "code",
    "executionInfo": {
     "elapsed": 830,
     "status": "ok",
     "timestamp": 1533179229996,
     "user": {
      "displayName": "Lucian Sturião",
      "photoUrl": "//lh6.googleusercontent.com/-EQEjkTuE5bo/AAAAAAAAAAI/AAAAAAAAhDs/hf44b7V3N-U/s50-c-k-no/photo.jpg",
      "userId": "109847505924129083379"
     },
     "user_tz": 180
    },
    "id": "jRJsQogakhsn",
    "outputId": "a8f87bd4-4bad-40cf-bada-1e6afd5cc54f"
   },
   "outputs": [
    {
     "name": "stdout",
     "output_type": "stream",
     "text": [
      "targetFuncion = [ 0.47691948 -0.3689029 ]\n"
     ]
    }
   ],
   "source": [
    "import numpy as np\n",
    "    \n",
    "targetFunction = np.random.rand(2)*2 - 1\n",
    "\n",
    "print('targetFuncion = ' + str(targetFunction))"
   ]
  },
  {
   "cell_type": "markdown",
   "metadata": {},
   "source": [
    "E sendo a reta $y = ax + b$ e a targetFunction = $[a, b]$:"
   ]
  },
  {
   "cell_type": "code",
   "execution_count": 348,
   "metadata": {},
   "outputs": [
    {
     "name": "stdout",
     "output_type": "stream",
     "text": [
      "targetFunction A = 0.476919483907\n",
      "targetFunction B = -0.368902901986\n"
     ]
    }
   ],
   "source": [
    "targetFunctionA = targetFunction[0]\n",
    "targetFunctionB = targetFunction[1]\n",
    "\n",
    "print('targetFunction A = ' + str(targetFunctionA))\n",
    "print('targetFunction B = ' + str(targetFunctionB))"
   ]
  },
  {
   "cell_type": "markdown",
   "metadata": {},
   "source": [
    "Pode-se então visualizar esta target function:"
   ]
  },
  {
   "cell_type": "code",
   "execution_count": 349,
   "metadata": {},
   "outputs": [
    {
     "data": {
      "image/png": "[encoded data removed]",
      "text/plain": [
       "<matplotlib.figure.Figure at 0x111d0b978>"
      ]
     },
     "metadata": {},
     "output_type": "display_data"
    }
   ],
   "source": [
    "import matplotlib.pyplot as plt\n",
    "import numpy as np\n",
    "\n",
    "def xInTargetFunction(x):\n",
    "    return targetFunctionA*x + targetFunctionB\n",
    "\n",
    "xValues = np.linspace(-1, 1, 100)\n",
    "yValues = np.array([])\n",
    "\n",
    "for x in xValues:\n",
    "    yValues = np.append(yValues, xInTargetFunction(x))\n",
    "\n",
    "plt.style.use('seaborn-whitegrid')\n",
    "plt.plot(xValues, yValues)\n",
    "axes = plt.gca()\n",
    "axes.set_xlim([-1,1])\n",
    "axes.set_ylim([-1,1])\n",
    "plt.show()\n"
   ]
  },
  {
   "cell_type": "markdown",
   "metadata": {
    "colab_type": "text",
    "id": "gnF6H3R_Y8Wb"
   },
   "source": [
    "## 2. Gerando Dados a partir da função de geração (target)\n",
    "\n",
    "Dada a função gerada, pode-se agora gerar pontos aleatórios e classificá-los a partir da mesma para gerar pontos de treinamento. A ideia aqui é gerar o conjunto $X$ matriz $(100,2)$ com pontos aleatórios $[-1,1]$ $x$ $[-1,1]$ (será utilizado o mesmo método ```numpy.random.rand``` utilizado anteriormente), sendo cada $x_n = [x,y]$:"
   ]
  },
  {
   "cell_type": "code",
   "execution_count": 350,
   "metadata": {},
   "outputs": [
    {
     "name": "stdout",
     "output_type": "stream",
     "text": [
      "[[-0.74561938  0.78149199]\n",
      " [-0.15144173  0.05069513]\n",
      " [ 0.43179354  0.16523443]\n",
      " [-0.32367427 -0.927555  ]\n",
      " [ 0.73513033 -0.93828663]\n",
      " [-0.63197967  0.33517052]\n",
      " [-0.30591315 -0.75453632]\n",
      " [-0.32666891 -0.1898323 ]\n",
      " [-0.95862952  0.08061957]\n",
      " [ 0.65187155  0.22878186]] \n",
      "[...]\n"
     ]
    }
   ],
   "source": [
    "import numpy as np\n",
    "\n",
    "NUMBER_OF_POINTS = 100\n",
    "\n",
    "dataX = np.random.rand(NUMBER_OF_POINTS,2)*2 - 1\n",
    "\n",
    "# mostrando somente primeiros 10 itens\n",
    "print(str(dataX[:10]) + \" \\n[...]\")"
   ]
  },
  {
   "cell_type": "markdown",
   "metadata": {},
   "source": [
    "Classificá-los usando a função ```classifica``` que retorna $1$ caso o ponto esteja acima da reta da targetFunction, e 0 caso contrário:"
   ]
  },
  {
   "cell_type": "code",
   "execution_count": 351,
   "metadata": {},
   "outputs": [],
   "source": [
    "def classificaReg(linha, pesos):\n",
    "  resultado = pesos[0]*linha[0] + pesos[1]\n",
    "  \n",
    "  if (linha[1] >= resultado):\n",
    "    return 1.0\n",
    "  \n",
    "  return -1.0"
   ]
  },
  {
   "cell_type": "markdown",
   "metadata": {},
   "source": [
    "E gerar as labels de resultado $Y$ a partir da classificação de $X$ com a função target."
   ]
  },
  {
   "cell_type": "code",
   "execution_count": 352,
   "metadata": {},
   "outputs": [
    {
     "name": "stdout",
     "output_type": "stream",
     "text": [
      "[ 1.  1.  1. -1. -1.  1. -1.  1.  1.  1.] [...]\n"
     ]
    }
   ],
   "source": [
    "dataY = np.array([])\n",
    "\n",
    "for x in dataX:\n",
    "    dataY = np.append(dataY, classificaReg(x, targetFunction))\n",
    "\n",
    "# mostrando somente primeiros 10 itens\n",
    "print(str(dataY[:10]) + \" [...]\")"
   ]
  },
  {
   "cell_type": "markdown",
   "metadata": {},
   "source": [
    "Agora pode-se ver o resultado no gráfico:"
   ]
  },
  {
   "cell_type": "code",
   "execution_count": 353,
   "metadata": {},
   "outputs": [
    {
     "data": {
      "image/png": "[encoded data removed]",
      "text/plain": [
       "<matplotlib.figure.Figure at 0x1121e9cf8>"
      ]
     },
     "metadata": {},
     "output_type": "display_data"
    }
   ],
   "source": [
    "plt.style.use('seaborn-whitegrid')\n",
    "plt.plot(xValues, yValues)\n",
    "\n",
    "# cores a ser mostradas\n",
    "yColors = np.array([])\n",
    "\n",
    "for y in dataY:\n",
    "    yColors = np.append(yColors, 'b' if y == -1 else 'r')\n",
    "\n",
    "plt.plot(xValues, yValues)\n",
    "plt.scatter(dataX.T[0], dataX.T[1],c=yColors)\n",
    "axes = plt.gca()\n",
    "axes.set_xlim([-1,1])\n",
    "axes.set_ylim([-1,1])\n",
    "plt.show()"
   ]
  },
  {
   "cell_type": "markdown",
   "metadata": {},
   "source": [
    "Observe que na verdade estamos observando um gráfico 2D, mas na verdade os pontos vermelhos tem valor $+1$ enquanto os pontos em azul tem valor $-1$."
   ]
  },
  {
   "cell_type": "markdown",
   "metadata": {
    "colab_type": "text",
    "id": "fZYrnUKgZJk7"
   },
   "source": [
    "## 3. Implementando a Regressão Linear\n",
    "\n",
    "O algoritmo de aprendizado da Regressão é muito simples. Vamos aplicar a fórmula:   \n",
    "\n",
    "$$w = X^{\\dagger}y$$ onde $$X^{\\dagger} = (X^TX)^{-1}X^T$$ e $X^{\\dagger}$ é a pseudo-inversa de $X$.\n",
    "\n",
    "Será usada a função ```np.linalg.pinv(<X>)``` que calcula a pseudo-inversa.\n",
    "\n",
    "Algoritmo:"
   ]
  },
  {
   "cell_type": "code",
   "execution_count": 451,
   "metadata": {
    "colab": {
     "autoexec": {
      "startup": false,
      "wait_interval": 0
     }
    },
    "colab_type": "code",
    "id": "ev2Jv4ZFcIJD"
   },
   "outputs": [],
   "source": [
    "def regressionFit(X, y):\n",
    "    # cria com um vetor inicial por causa da funcao vstack\n",
    "    trainingX = np.array([0,0,0])\n",
    "    \n",
    "    for x in X:\n",
    "        trainingX = np.vstack([trainingX, np.array([x[0], x[1], 1])])\n",
    "    \n",
    "    # usa o X treinamento sem considerar a primeira linha\n",
    "    pseudoInvX = np.linalg.pinv(trainingX[1:])\n",
    "    return pseudoInvX.dot(y)\n"
   ]
  },
  {
   "cell_type": "markdown",
   "metadata": {},
   "source": [
    "Uma outra função que será usada é a função ```regressionPredict(w, x)```: "
   ]
  },
  {
   "cell_type": "code",
   "execution_count": 452,
   "metadata": {},
   "outputs": [],
   "source": [
    "def regressionPredict(w, x):\n",
    "    regressionValue = w.T.dot(np.array([x[0], x[1], 1]))\n",
    "    return 1.0 if regressionValue >= 0 else -1.0"
   ]
  },
  {
   "cell_type": "code",
   "execution_count": 453,
   "metadata": {},
   "outputs": [
    {
     "name": "stdout",
     "output_type": "stream",
     "text": [
      "fittedW:\n",
      "[-0.52643457  1.15600334  0.37039235]\n"
     ]
    }
   ],
   "source": [
    "fittedW = regressionFit(dataX, dataY)\n",
    "\n",
    "print('fittedW:')\n",
    "print(fittedW)"
   ]
  },
  {
   "cell_type": "markdown",
   "metadata": {},
   "source": [
    "  Uma observação que vale a pena ser feita é que a regressão linear não atinge 100% de acertos nos dados de entrada, assim com o PLA. Ou seja, $E_{in}$ não é $0%$. Será utilizada a seguinte função para testar o erro:"
   ]
  },
  {
   "cell_type": "code",
   "execution_count": 454,
   "metadata": {},
   "outputs": [],
   "source": [
    "def calculaErro(w, X, Y):\n",
    "    erro = 0\n",
    "    index = 0\n",
    "    for x in X:        \n",
    "        if regressionPredict(w, x) != Y[index]:\n",
    "            erro += 1\n",
    "            \n",
    "        index += 1\n",
    "    return erro/index"
   ]
  },
  {
   "cell_type": "markdown",
   "metadata": {},
   "source": [
    "No nosso exemplo o $E_{in}$ foi de:"
   ]
  },
  {
   "cell_type": "code",
   "execution_count": 455,
   "metadata": {},
   "outputs": [
    {
     "name": "stdout",
     "output_type": "stream",
     "text": [
      "Erro no conjunto de treinamento (Ein) é: 5.0%\n"
     ]
    }
   ],
   "source": [
    "Ein = calculaErro(fittedW, dataX, dataY)\n",
    "print('Erro no conjunto de treinamento (Ein) é: ' + str(Ein*100) + '%')"
   ]
  },
  {
   "cell_type": "markdown",
   "metadata": {},
   "source": [
    "Para calcular um $E_{out}$ devemos gerar dados que não foram usados para treinar $w$ e criar um nodo vetor $Y$ a partir da targetFunction e utilizar nossa função com o vetor $w$ gerado anteriormente e calcular o erro. \n",
    "\n",
    "Para isso será Utilizada a seguinte função:"
   ]
  },
  {
   "cell_type": "code",
   "execution_count": 456,
   "metadata": {},
   "outputs": [],
   "source": [
    "def calculaErroForaDaAmostra(w, tempFunction, NUMBER_OF_POINTS):\n",
    "    tempX = np.random.rand(NUMBER_OF_POINTS,2)*2 - 1    \n",
    "    tempY = np.array([])\n",
    "\n",
    "    for x in tempX:\n",
    "        tempY = np.append(tempY, classificaReg(x, tempFunction))\n",
    "    \n",
    "    return calculaErro(w, tempX, tempY)\n",
    "    "
   ]
  },
  {
   "cell_type": "markdown",
   "metadata": {},
   "source": [
    "Então para um conjunto de teste de $100$ registros, teríamos um $E_{out}$ de:"
   ]
  },
  {
   "cell_type": "code",
   "execution_count": 457,
   "metadata": {},
   "outputs": [
    {
     "name": "stdout",
     "output_type": "stream",
     "text": [
      "Erro no conjunto de teste (Eout) é: 0.0%\n"
     ]
    }
   ],
   "source": [
    "Eout = calculaErroForaDaAmostra(fittedW, targetFunction, 100)\n",
    "print('Erro no conjunto de teste (Eout) é: ' + str(Eout*100) + '%')"
   ]
  },
  {
   "cell_type": "markdown",
   "metadata": {},
   "source": [
    "## Exercícios\n",
    "\n",
    "### Regressão Linear\n",
    "\n",
    "\n",
    "Nestes problemas nós vamos explorar como a Regressão Linear para classificação trabalha. Da mesma maneira com uso do Algoritmo de Aprendizagem Perceptron no Homework #1, você vai criar a sua própria função target (alvo) $f$ e o conjunto de dados $D$. Utilize $d = 2$ para que você possa visualizar o problema, e assuma $X = [-1,1] × [-1,1]$ com probabilidade uniforme selecionando cada $x ∈ X$ . Em cada execução, escolha uma reta aleatória no plano como sua função target $f$ ( faça isso selecionando dois pontos aleatórios, uniformemente distribuídos em $[-1,1] × [-1,1]$ e use a reta que passa entre eles), de forma que a reta mapeie $+1$ por um lado e $-1$ pelo outro. Escolha as entradas $x_n$ do conjunto de dados de pontos aleatórios (uniformemente em $X$), e avalie a função target em cada $x_n$ para encontrar a saída correspondente $y_n$.\n"
   ]
  },
  {
   "cell_type": "markdown",
   "metadata": {},
   "source": [
    "### Resolução\n",
    "\n",
    "Serão utilizadas as funções ```classifica``` e ```fit``` nas questões que é necessário testar usando PLA:"
   ]
  },
  {
   "cell_type": "code",
   "execution_count": 512,
   "metadata": {},
   "outputs": [],
   "source": [
    "def classifica(row, f):\n",
    "    soma = np.append(row, 1).dot(f)\n",
    "\n",
    "    if (soma >= 0.0):\n",
    "        return 1.0\n",
    "\n",
    "    return 0.0\n",
    "\n",
    "def fit(X, Y, w, lr = 1):\n",
    "    i = 0\n",
    "    tempW = w\n",
    "    while True:\n",
    "        changed = False\n",
    "        i = i+1\n",
    "        index = 0\n",
    "        for x in X:\n",
    "            pred = classifica(x, tempW)\n",
    "            exp = 1.0 if Y[index] > 0.0 else 0.0\n",
    "            #print(pred)\n",
    "            #print(exp)\n",
    "            #print(' ')\n",
    "            if pred != exp:\n",
    "                changed = True\n",
    "                tempW = tempW + lr * (exp-pred) * np.append(x, 1)\n",
    "            index +=1\n",
    "                \n",
    "        # shuffle como requisitado no enunciado        \n",
    "        np.random.shuffle(X)\n",
    "        if changed == False:\n",
    "            break\n",
    "\n",
    "    return tempW, i"
   ]
  },
  {
   "cell_type": "markdown",
   "metadata": {},
   "source": [
    "Utilizando a função auxiliar:"
   ]
  },
  {
   "cell_type": "code",
   "execution_count": 599,
   "metadata": {},
   "outputs": [],
   "source": [
    "def classificaReg(linha, f):\n",
    "  resultado = f[0]*linha[0] + f[1]\n",
    "  \n",
    "  if (linha[1] >= resultado):\n",
    "    return 1.0\n",
    "  \n",
    "  return -1.0\n",
    "\n",
    "def regressionFit(X, y):\n",
    "    trainingX = np.array([0,0,0])\n",
    "    \n",
    "    for x in X:\n",
    "        trainingX = np.vstack([trainingX, np.array([x[0], x[1], 1])])\n",
    "        \n",
    "    pseudoInvX = np.linalg.pinv(trainingX[1:])\n",
    "    return pseudoInvX.dot(y)\n",
    "\n",
    "\n",
    "def regressionPredict(w, x):\n",
    "    regressionValue = w.T.dot(np.array([x[0], x[1], 1]))\n",
    "    return 1.0 if regressionValue >= 0 else -1.0\n",
    "\n",
    "\n",
    "# retorna \n",
    "#    1. Ein - probabilidade de erro entre y e w^t*x calculada empiricamente \n",
    "#       usando <nExperimentos> experimentos dentro do conjunto de treinamento\n",
    "#    2. Eout - probabilidade de erro entre y e w^t*x calculada empiricamente \n",
    "#       usando <nExperimentos> experimentos dentro do conjunto de testes\n",
    "#\n",
    "# parametros\n",
    "#   1. nPontos = Número de pontos gerados para cada experimento\n",
    "#   2. nExperimentos = número de experimentos executados no cálculo\n",
    "#\n",
    "def calculaRegression_e_PLA(nPontos, nExperimentos = 1000):\n",
    "    Eout = 0.0    \n",
    "    Ein = 0.0 \n",
    "    nIter = 0.0;\n",
    "    \n",
    "    for i in range(nExperimentos):\n",
    "\n",
    "        # gera funcao target F entre [-1, 1)\n",
    "        targetFunctionF = np.random.rand(2)*2 - 1\n",
    "\n",
    "        # gera N pontos\n",
    "        innerDataX = np.random.rand(nPontos,2)*2 - 1\n",
    "        \n",
    "        innerY = np.array([])\n",
    "\n",
    "        # gera pontos em y -1 ou +1\n",
    "        for x in innerDataX:\n",
    "            innerY = np.append(innerY, classificaReg(x, targetFunctionF))\n",
    "            \n",
    "        # fit em w e recebendo numero de iteracoes\n",
    "        fittedInnerW = regressionFit(innerDataX, innerY)\n",
    "        \n",
    "        #w = np.array([0,0,0])\n",
    "        \n",
    "        #print(fittedInnerW)\n",
    "        # fit em w usando PLA com W inicial gerado pela regressão\n",
    "        #innerIter = 0.0\n",
    "        fittedPLA_W, innerIter = fit(innerDataX, innerY, fittedInnerW)\n",
    "        #print(fittedPLA_W, innerIter)\n",
    "                \n",
    "        # gera N pontos para teste\n",
    "        innerTestDataX = np.random.rand(nPontos,2)*2 - 1\n",
    "        \n",
    "        # calculando numero de erros do conjunto de treinamento\n",
    "        errors = 0.0\n",
    "        for x in innerDataX:\n",
    "            predicted = regressionPredict(fittedInnerW, x)\n",
    "            expected =  classificaReg(x, targetFunctionF)\n",
    "            if predicted != expected:\n",
    "                errors = errors + 1.0\n",
    "        \n",
    "        innerEin = errors / nPontos;\n",
    "                        \n",
    "        # calculando numero de erros do conjunto de testes\n",
    "        errors = 0.0\n",
    "        for x in innerTestDataX:\n",
    "            predicted = regressionPredict(fittedInnerW, x)\n",
    "            expected =  classificaReg(x, targetFunctionF)\n",
    "            if predicted != expected:\n",
    "                errors = errors + 1.0\n",
    "        \n",
    "        innerEout = errors / nPontos;\n",
    "        \n",
    "        # adicionando Ein\n",
    "        Ein = Ein + innerEin\n",
    "        # adicionando Eout\n",
    "        Eout = Eout + innerEout\n",
    "        # n iteracoes\n",
    "        nIter = nIter + innerIter;\n",
    "            \n",
    "        \n",
    "    #end for\n",
    "    Eout = Eout/nExperimentos;\n",
    "    Ein = Ein/nExperimentos;\n",
    "    nIter = nIter/nExperimentos;\n",
    "    \n",
    "    return Ein, Eout, nIter "
   ]
  },
  {
   "cell_type": "markdown",
   "metadata": {},
   "source": [
    "1) Utilize N = 100. Use Regressão  não Linear para encontrar g e avaliar $E_{in}$, a fração de pontos dentro da amostra que foram classificados incorretamente. Repita o experimento 1000 vezes e use o valor médio (guarde as g’s que serão usadas novamente no Problema 2). Qual é o valor médio aproximado de $E_{in}$? (aproximado é a opção que faz a expressão | sua resposta - dada opção | próxima a 0. Use esta definição aqui e sempre).\n",
    "\n",
    "a) $0$ b) $0.001$ c)**(x)** $0.01$ d) $0.1$ e) $0.5$\n"
   ]
  },
  {
   "cell_type": "markdown",
   "metadata": {},
   "source": [
    "2) Agora, gere 1000 novos pontos e os use para estimar o erro fora da amostra $E_{out}$ de g que você fez no Problema 1 (número de pontos classificados incorretamente / número total de pontos fora da amostra). Novamente, execute o experimento 1000 vezes e guarde a média. Qual é o valor médio aproximado de $E_{out}$?\n",
    "\n",
    "a) $0$ b) $0.001$ c)**(x)** $0.01$ d) $0.1$ e) $0.5$\n"
   ]
  },
  {
   "cell_type": "code",
   "execution_count": 522,
   "metadata": {},
   "outputs": [
    {
     "name": "stdout",
     "output_type": "stream",
     "text": [
      "Ein = 0.04218000000000003\n",
      "Eout = 0.052470000000000065\n",
      "PLA Iter = 402.12415\n"
     ]
    }
   ],
   "source": [
    "N100Ein, N100Eout, N100Iter = calculaRegression_e_PLA(100)\n",
    "print('Ein = ' + str(N100Ein))\n",
    "print('Eout = ' + str(N100Eout))\n",
    "print('PLA Iter = ' + str(N100Iter))"
   ]
  },
  {
   "cell_type": "markdown",
   "metadata": {},
   "source": [
    "3) Agora, utilize N = 10. Posteriormente, procurando os pesos usando Regressão Linear, os use como um vetor de pesos inicial para o Algoritmo de Aprendizagem Perceptron. Execute PLA até que convirja para o vetor final de pesos que separe completamente todos os pontos dentro da amostra. Entre as opções abaixo, qual é o valor mais próximo do número médio de iterações (mais de 1000 execuções) que o PLA leva para convergir? (Quando estiver implementando o PLA, escolha um ponto aleatório para o conjunto classificado incorretamente para cada iteração).\n",
    "\n",
    "a) $1$ b) $15$ c) $300$ **d)(x)** $5000$ e) $10000$\n"
   ]
  },
  {
   "cell_type": "markdown",
   "metadata": {},
   "source": [
    "### Regressão Não-Linear\n",
    "\n",
    "Nestes problemas, nós vamos novamente aplicar Regressão Linear para classificação. Considere a função target:\n",
    "\n",
    "$f(x_1, x_2) = sign(x^2_1 + x^2_2 − 0.6)$.\n",
    "\n",
    "Gere um conjunto de treinamento de $N = 1000$ pontos em $X = [-1,1]×[-1,1]$ com probabilidade uniforme escolhendo cada $x ∈ X$ . Gere um ruído simulado lançando o sinal de saída aleatoriamente selecionando $10%$ do subconjunto de treinamento gerado.\n",
    "\n"
   ]
  },
  {
   "cell_type": "markdown",
   "metadata": {},
   "source": [
    "**Será utilizada uma versão modificada da anterior:**"
   ]
  },
  {
   "cell_type": "code",
   "execution_count": 553,
   "metadata": {},
   "outputs": [],
   "source": [
    "def classificaRegNLin(linha):\n",
    "  resultado = linha[0]**2 + linha[1]**2 - 0.6\n",
    "  \n",
    "  if (linha[1] >= resultado):\n",
    "    return 1.0\n",
    "  \n",
    "  return -1.0\n",
    "\n",
    "def regressionNLinFit(X, y):\n",
    "    trainingX = np.array([0,0,0])\n",
    "    \n",
    "    for x in X:\n",
    "        trainingX = np.vstack([trainingX, np.array([1, x[0], x[1]])])\n",
    "        \n",
    "    pseudoInvX = np.linalg.pinv(trainingX[1:])\n",
    "    return pseudoInvX.dot(y)\n",
    "\n",
    "\n",
    "def regressionNLinPredict(w, x):\n",
    "    regressionValue = w.T.dot(np.array([1, x[0], x[1]]))\n",
    "    return 1.0 if regressionValue >= 0 else -1.0\n",
    "\n",
    "def calculaRegressionNLin(nPontos, nExperimentos = 1000, quantidadeRuido = 10):\n",
    "    Eout = 0.0    \n",
    "    Ein = 0.0 \n",
    "    wSum = np.array([0.0,0.0,0.0]);\n",
    "    \n",
    "    for i in range(nExperimentos):\n",
    "\n",
    "        # gera funcao target F entre [-1, 1)\n",
    "        #targetFunctionF = np.random.rand(2)*2 - 1\n",
    "\n",
    "        # gera N pontos\n",
    "        innerDataX = np.random.rand(nPontos,2)*2 - 1\n",
    "        \n",
    "        innerY = np.array([])\n",
    "\n",
    "        # gera pontos em y -1 ou +1\n",
    "        for x in innerDataX:\n",
    "            innerY = np.append(innerY, classificaRegNLin(x))\n",
    "            \n",
    "        # gerando ruído\n",
    "        for i in range(quantidadeRuido):\n",
    "            #random float [0,1)\n",
    "            random = np.random.rand(1)[0]\n",
    "            \n",
    "            randomSignal = 1.0 if random > 0.5 else -1.0\n",
    "            \n",
    "            random2 = np.random.rand(1)[0]\n",
    "            # randomIndex = int [0, nPontos-1]\n",
    "            randomIndex = int((nPontos)*random2)\n",
    "            \n",
    "            innerY[randomIndex] = randomSignal\n",
    "            \n",
    "            \n",
    "        # fit em w e recebendo numero de iteracoes\n",
    "        fittedInnerW = regressionNLinFit(innerDataX, innerY)\n",
    "        #print(fittedInnerW)\n",
    "        wSum += fittedInnerW\n",
    "    \n",
    "        # gera N pontos para teste\n",
    "        innerTestDataX = np.random.rand(nPontos,2)*2 - 1\n",
    "        \n",
    "        # calculando numero de erros do conjunto de treinamento\n",
    "        errors = 0.0\n",
    "        for x in innerDataX:\n",
    "            predicted = regressionNLinPredict(fittedInnerW, x)\n",
    "            expected =  classificaRegNLin(x)\n",
    "            if predicted != expected:\n",
    "                errors = errors + 1.0\n",
    "        \n",
    "        innerEin = errors / nPontos;\n",
    "                        \n",
    "        # calculando numero de erros do conjunto de testes\n",
    "        errors = 0.0\n",
    "        for x in innerTestDataX:\n",
    "            predicted = regressionNLinPredict(fittedInnerW, x)\n",
    "            expected =  classificaRegNLin(x)\n",
    "            if predicted != expected:\n",
    "                errors = errors + 1.0\n",
    "        \n",
    "        innerEout = errors / nPontos;\n",
    "        \n",
    "        # adicionando Ein\n",
    "        Ein = Ein + innerEin\n",
    "        # adicionando Eout\n",
    "        Eout = Eout + innerEout\n",
    "            \n",
    "        \n",
    "    #end for\n",
    "    Eout = Eout/nExperimentos;\n",
    "    Ein = Ein/nExperimentos;\n",
    "    medianW = wSum/nExperimentos\n",
    "    \n",
    "    return Ein, Eout, medianW "
   ]
  },
  {
   "cell_type": "markdown",
   "metadata": {},
   "source": [
    "4) Execute a Regressão Linear sem transformação usando o vetor de atributos:\n",
    "\n",
    "$(1, x_1, x_2)$, \n",
    "\n",
    "para encontrar o peso **w**. Qual é o valor aproximado de classificação do erro\n",
    "$E_{in}$ dentro da amostra? (Execute o experimento 100 vezes e use o valor médio de $E_{in}$ para reduzir a variação nos seus resultados.)\n",
    "\n",
    "a) $0$  b) $0.1$ **c) (x)** $0.3$ d) $0.5$ e) $0.8$\n"
   ]
  },
  {
   "cell_type": "code",
   "execution_count": 605,
   "metadata": {},
   "outputs": [
    {
     "name": "stdout",
     "output_type": "stream",
     "text": [
      "Ein = 0.05178\n",
      "Eout = 0.055559999999999984\n",
      "Median W = [  7.89883015e-01   2.91855715e-03   1.18256340e+00  -1.11711349e-03\n",
      "  -1.26756896e+00  -7.88597974e-01]\n"
     ]
    }
   ],
   "source": [
    "Ein, Eout, midW = calculaRegressionNLin(1000, 100, 10)\n",
    "print('Ein = ' + str(Ein))\n",
    "print('Eout = ' + str(Eout))\n",
    "print('Median W = ' + str(midW))"
   ]
  },
  {
   "cell_type": "code",
   "execution_count": 595,
   "metadata": {},
   "outputs": [],
   "source": [
    "def classificaRegNLin(linha):\n",
    "  resultado = linha[0]**2 + linha[1]**2 - 0.6\n",
    "  \n",
    "  if (linha[1] >= resultado):\n",
    "    return 1.0\n",
    "  \n",
    "  return -1.0\n",
    "\n",
    "def regressionNLinFit(X, y):\n",
    "    trainingX = np.array([0,0,0,0,0,0])\n",
    "    \n",
    "    for x in X:\n",
    "        trainingX = np.vstack([trainingX, np.array([1, x[0], x[1], x[0]*x[1], x[0]**2, x[1]**2])])\n",
    "        \n",
    "    pseudoInvX = np.linalg.pinv(trainingX[1:])\n",
    "    return pseudoInvX.dot(y)\n",
    "\n",
    "\n",
    "def regressionNLinPredict(w, x):\n",
    "    regressionValue = w.T.dot(np.array([1, x[0], x[1], x[0]*x[1], x[0]**2, x[1]**2]))\n",
    "    return 1.0 if regressionValue >= 0 else -1.0\n",
    "\n",
    "def calculaRegressionNLin(nPontos, nExperimentos = 1000, quantidadeRuido = 10):\n",
    "    Eout = 0.0    \n",
    "    Ein = 0.0 \n",
    "    wSum = np.array([0.0,0.0,0.0,0.0,0.0,0.0]);\n",
    "    \n",
    "    for i in range(nExperimentos):\n",
    "\n",
    "        # gera funcao target F entre [-1, 1)\n",
    "        #targetFunctionF = np.random.rand(2)*2 - 1\n",
    "\n",
    "        # gera N pontos\n",
    "        innerDataX = np.random.rand(nPontos,2)*2 - 1\n",
    "        \n",
    "        innerY = np.array([])\n",
    "\n",
    "        # gera pontos em y -1 ou +1\n",
    "        for x in innerDataX:\n",
    "            innerY = np.append(innerY, classificaRegNLin(x))\n",
    "            \n",
    "        # gerando ruído\n",
    "        for i in range(quantidadeRuido):\n",
    "            #random float [0,1)\n",
    "            random = np.random.rand(1)[0]\n",
    "            \n",
    "            randomSignal = 1.0 if random > 0.5 else -1.0\n",
    "            \n",
    "            random2 = np.random.rand(1)[0]\n",
    "            # randomIndex = int [0, nPontos-1]\n",
    "            randomIndex = int((nPontos)*random2)\n",
    "            \n",
    "            innerY[randomIndex] = randomSignal\n",
    "            \n",
    "            \n",
    "        # fit em w e recebendo numero de iteracoes\n",
    "        fittedInnerW = regressionNLinFit(innerDataX, innerY)\n",
    "        #print(fittedInnerW)\n",
    "        \n",
    "    \n",
    "        # gera N pontos para teste\n",
    "        innerTestDataX = np.random.rand(nPontos,2)*2 - 1\n",
    "        \n",
    "        # calculando numero de erros do conjunto de treinamento\n",
    "        errors = 0.0\n",
    "        for x in innerDataX:\n",
    "            predicted = regressionNLinPredict(fittedInnerW, x)\n",
    "            expected =  classificaRegNLin(x)\n",
    "            if predicted != expected:\n",
    "                errors = errors + 1.0\n",
    "        \n",
    "        innerEin = errors / nPontos;\n",
    "                        \n",
    "        # calculando numero de erros do conjunto de testes\n",
    "        errors = 0.0\n",
    "        for x in innerTestDataX:\n",
    "            predicted = regressionNLinPredict(fittedInnerW, x)\n",
    "            expected =  classificaRegNLin(x)\n",
    "            if predicted != expected:\n",
    "                errors = errors + 1.0\n",
    "        \n",
    "        innerEout = errors / nPontos;\n",
    "        \n",
    "        # adicionando Ein\n",
    "        Ein = Ein + innerEin\n",
    "        # adicionando Eout\n",
    "        Eout = Eout + innerEout\n",
    "        # adicionando w\n",
    "        wSum = wSum + fittedInnerW\n",
    "            \n",
    "        \n",
    "    #end for\n",
    "    Eout = Eout/nExperimentos;\n",
    "    Ein = Ein/nExperimentos;\n",
    "    medianW = wSum/nExperimentos\n",
    "    \n",
    "    return Ein, Eout, medianW "
   ]
  },
  {
   "cell_type": "markdown",
   "metadata": {},
   "source": [
    "5) Agora, transforme os N = 1000 dados de treinamento seguindo o vetor de\n",
    "atributos não-linear:\n",
    "\n",
    "$(1, x_1, x_2, x_1 x_2, x^2_1, x^2_2)$.\n",
    "\n",
    "\n",
    "Encontre o vetor $w_e$ que corresponde a solução da regressão linear. Quais das hipóteses a seguir é a mais próxima que você encontrou? Neste caso, próximo significa o valor que mais entra em acordo com sua hipótese (existe uma alta probabilidade de estar acordando com um ponto aleatoriamente selecionado). Em média algumas execuções serão necessárias para assegurar uma resposta estável.\n",
    "\n",
    "a) $g(x_1, x_2) = sign( -1 - 0.05x_1 + 0.08x_2 + 0.13x_1 x_2 + 1.5x^2_1 + 1.5x^2_2)$  \n",
    "b) $g(x_1, x_2) = sign( -1 - 0.05x_1 + 0.08x_2 + 0.13x_1 x_2 + 1.5x^2_1 + 15x^2_2)$  \n",
    "c) $g(x_1, x_2) = sign( -1 - 0.05x_1 + 0.08x_2 + 0.13x_1 x_2 + 15x^2_1 + 1.5x^2_2)  $  \n",
    "d) $g(x_1, x_2) = sign( -1 - 1.5x_1 + 0.08x_2 + 0.13x_1 x_2 + 0.05x^2_1 + 0.05x^2_2)  $  \n",
    "e) $g(x_1, x_2) = sign( -1 - 0.05x_1 + 0.08x_2 + 1.5x_1 x_2 + 0.15x^2_1 + 0.15x^2_2)  $  \n",
    "f) $Nenhuma$ **(x)**"
   ]
  },
  {
   "cell_type": "markdown",
   "metadata": {},
   "source": [
    "6) Qual o valor mais próximo do erro de classificação fora da amostra $E_{out}$ de sua hipótese no Problema 5? (Estime isso gerando um novo conjunto de 1000 pontos e adicione ruído, como antes. Em média 1000 execuções reduzem a variação em seus resultados).\n",
    "\n",
    "a) $0$ **b)(x)** $0.1$ c) $0.3$ d) $0.5$ e) $0.8$\n"
   ]
  },
  {
   "cell_type": "code",
   "execution_count": 598,
   "metadata": {},
   "outputs": [
    {
     "name": "stdout",
     "output_type": "stream",
     "text": [
      "Ein = 0.047099999999999975\n",
      "Eout = 0.0681\n",
      "Median W = [ 0.77680229  0.00969515  1.21222684 -0.01438753 -1.23245675 -0.77486688]\n"
     ]
    }
   ],
   "source": [
    "Ein, Eout, midW = calculaRegressionNLin(100, 100, 1)\n",
    "print('Ein = ' + str(Ein))\n",
    "print('Eout = ' + str(Eout))\n",
    "print('Median W = ' + str(midW))"
   ]
  },
  {
   "cell_type": "markdown",
   "metadata": {},
   "source": [
    "## Conclusão\n",
    "\n",
    "   Comparando com a implementação de um PLA, tem se a impressão que a implementação de uma regressão linear (ou logística) é um pouco mais complexa. Entretanto o tempo de execução parece ser menor quando comparado ao PLA. Uma contra-partida também da regressão linear é que existe a possibilidade de ocorrer Erros mesmo dentro dos dados de treinamento. \n",
    "   \n",
    "   Observou-se que a regressão linear pode ser bastante útil no aprendizado de funções target, porém as vezes é necessário fazer transformações com o dado de entrada para que esta seja eficiente. Essas transformações nem sempre são triviais e pode ser que sejam necessários testes para que se utilize a transformação mais apropriada dependendo da função target.\n",
    "   \n",
    "   Similarmente ao PLA, quanto maior $N$, menor a probabilidade de que $g(x_i) \\neq f(x_i)$ diminuindo assim tanto $E_{in}$ quanto $E_{out}$."
   ]
  },
  {
   "cell_type": "code",
   "execution_count": null,
   "metadata": {},
   "outputs": [],
   "source": []
  }
 ],
 "metadata": {
  "colab": {
   "default_view": {},
   "name": "ICTrab1.ipynb",
   "provenance": [],
   "version": "0.3.2",
   "views": {}
  },
  "kernelspec": {
   "display_name": "Python 3",
   "language": "python",
   "name": "python3"
  },
  "language_info": {
   "codemirror_mode": {
    "name": "ipython",
    "version": 3
   },
   "file_extension": ".py",
   "mimetype": "text/x-python",
   "name": "python",
   "nbconvert_exporter": "python",
   "pygments_lexer": "ipython3",
   "version": "3.6.3"
  }
 },
 "nbformat": 4,
 "nbformat_minor": 1
}
